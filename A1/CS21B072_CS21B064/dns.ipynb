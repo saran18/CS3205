{
  "nbformat": 4,
  "nbformat_minor": 0,
  "metadata": {
    "colab": {
      "provenance": []
    },
    "kernelspec": {
      "name": "python3",
      "display_name": "Python 3"
    },
    "language_info": {
      "name": "python"
    }
  },
  "cells": [
    {
      "cell_type": "code",
      "source": [
        "# sample packets given in the assignment question.\n",
        "\n",
        "packet_list = [\"37920100000100000000000106636c69656e740764726f70626f7803636f6d00000100010000290200000000000000\",\n",
        "\"7baf818000010001000000010f7a2d7034322d696e7374616772616d046331307209696e7374616772616d03636f6d0000010001c00c000100010000000c00049df017ae0000290200000000000000\",\n",
        "\"a0208180000100010000000105666f6e74730a676f6f676c656170697303636f6d0000010001c00c00010001000000ae00048efab64a0000290200000000000000\",\n",
        "\"4c76010000010000000000010c74696d65736f66696e6469610a696e64696174696d657303636f6d00000100010000290200000000000000\",\n",
        "\"629f8180000100010000000103637365046969746d02616302696e0000010001c00c0001000100001f9600040a0608020000290200000000000000\",\n",
        "]"
      ],
      "metadata": {
        "id": "lrf5Eeiu7_vO"
      },
      "execution_count": null,
      "outputs": []
    },
    {
      "cell_type": "code",
      "source": [
        "# given a hexadecimal octet, converts it to ASCII letter\n",
        "def hex_to_letters(hex_string):\n",
        "    letters = ''\n",
        "    for i in range(0, len(hex_string), 2):\n",
        "        hex_byte = hex_string[i:i+2]\n",
        "        letter = chr(int(hex_byte, 16))\n",
        "        letters += letter\n",
        "    return letters"
      ],
      "metadata": {
        "id": "ULnIWXd9XWdt"
      },
      "execution_count": null,
      "outputs": []
    },
    {
      "cell_type": "code",
      "source": [
        "# defining custom Exception classes to raise\n",
        "class FormatError(Exception):\n",
        "    pass\n",
        "\n",
        "class ServerFailure(Exception):\n",
        "    pass\n",
        "\n",
        "class NameError(Exception):\n",
        "    pass\n",
        "\n",
        "class NotImplemented(Exception):\n",
        "    pass\n",
        "\n",
        "class Refused(Exception):\n",
        "    pass"
      ],
      "metadata": {
        "id": "G_ti1xxX-c_z"
      },
      "execution_count": null,
      "outputs": []
    },
    {
      "cell_type": "code",
      "source": [
        "# checking if a label of the domain name is valid according to RFC 1035\n",
        "# 1.length of label <= 63\n",
        "# 2. domain name starts with a letter, can end with letter or digit\n",
        "# 3. domain name can have as interior characters only letters, digits, and hyphen.\n",
        "\n",
        "def is_valid_label(label):\n",
        "  if len(label) > 63:\n",
        "      return False\n",
        "\n",
        "  if not label[0].isalpha() or not label[-1].isalnum():\n",
        "      return False\n",
        "\n",
        "  for char in label[1:-1]:\n",
        "      if not char.isalnum() and char!='-':\n",
        "          return False\n",
        "\n",
        "  return True"
      ],
      "metadata": {
        "id": "myqAJtQiC9L5"
      },
      "execution_count": null,
      "outputs": []
    },
    {
      "cell_type": "code",
      "source": [
        "def extract_dns_info(dns_packet, query_response_bit):\n",
        "\n",
        "    # storing the header section data\n",
        "    id = int(dns_packet[:4], 16)\n",
        "    flags = int(dns_packet[4:8], 16)\n",
        "\n",
        "    #  Response code\n",
        "    rcode = int(dns_packet[7], 16)\n",
        "\n",
        "    # response code based actions\n",
        "    if rcode == 0:\n",
        "        pass\n",
        "    elif rcode == 1:\n",
        "        raise FormatError(\"The name server was unable to interpret the query.\")\n",
        "    elif rcode == 2:\n",
        "        raise ServerFailure(\"The name server was unable to process this query due to a problem with the name server.\")\n",
        "    elif rcode == 3:\n",
        "        raise NameError(\"The domain name referenced in the query does not exist.\")\n",
        "    elif rcode == 4:\n",
        "        raise NotImplemented(\"The name server does not support the requested kind of query.\")\n",
        "    elif rcode == 5:\n",
        "        raise Refused(\"The name server refuses to perform the specified operation for policy reasons.\")\n",
        "    elif 6 <= rcode <= 15:\n",
        "        raise ValueError(\"Reserved for future use - Response code:\", rcode)\n",
        "\n",
        "\n",
        "    question_count = int(dns_packet[8:12], 16)\n",
        "    answer_count = int(dns_packet[12:16], 16)\n",
        "\n",
        "    cursor = 24\n",
        "    qname = []\n",
        "    while True:\n",
        "        subsequent_string_length = int(dns_packet[cursor:cursor+2], 16)\n",
        "\n",
        "        # if you see a null octet (00), terminate reading of domain name\n",
        "        if subsequent_string_length == 0:\n",
        "            break\n",
        "\n",
        "        name = dns_packet[cursor+2:cursor+2+subsequent_string_length*2]\n",
        "        letters = hex_to_letters(name)\n",
        "\n",
        "        if is_valid_label(letters):\n",
        "            pass\n",
        "        else:\n",
        "            raise ValueError(\"Invalid label format:\", letters)\n",
        "\n",
        "        qname.append(letters)\n",
        "        cursor += 2 + subsequent_string_length * 2\n",
        "        # last two for null octet\n",
        "    cursor+=2\n",
        "    shifted_amount = cursor-24\n",
        "    domain_name = '.'.join(qname)\n",
        "\n",
        "    ipv4_address = 'query packet, not applicable'\n",
        "    # Check if packet is of query or response type -> extract ipv4 address only if packet is of response type.\n",
        "\n",
        "    cursor+=8\n",
        "    if(query_response_bit=='1'):\n",
        "      resource_record = (dns_packet[cursor:])\n",
        "\n",
        "      # checking the leading two bits - if 11 => messsage compression used, if 00 => domain name again present/\n",
        "      integer_value = int(resource_record[0], 16)\n",
        "      binary_string = bin(integer_value)[2:].zfill(4)\n",
        "\n",
        "      # message compression used\n",
        "      if(binary_string[:2]=='11'):\n",
        "        cursor += 24\n",
        "        ipv4_string = dns_packet[cursor:cursor+8]\n",
        "        ip_index = 0\n",
        "        ip_list = []\n",
        "        for i in range(0,4):\n",
        "          part_ip = ipv4_string[ip_index:ip_index+2]\n",
        "          letters = int(part_ip, 16)\n",
        "          letters = str(letters)\n",
        "\n",
        "          ip_list.append(letters)\n",
        "          ip_index += 2\n",
        "      elif(binary_string[:2]=='00'):\n",
        "        # domain name present - no message compression\n",
        "        cursor+=shifted_amount\n",
        "        cursor += 20\n",
        "        ipv4_string = dns_packet[cursor:cursor+8]\n",
        "        ip_index = 0\n",
        "        ip_list = []\n",
        "        for i in range(0,4):\n",
        "          part_ip = ipv4_string[ip_index:ip_index+2]\n",
        "          letters = int(part_ip, 16)\n",
        "          letters = str(letters)\n",
        "\n",
        "          ip_list.append(letters)\n",
        "          ip_index += 2\n",
        "\n",
        "      else:\n",
        "        raise ValueError(\"Not a valid DNS packet. \\\"label must begin with two zero bits because labels are restricted to 63 octets or less\\\" \")\n",
        "\n",
        "      # message compression used => 2 octets for name\n",
        "      # TYPE, CLASS, TTL, RDLENGTH => 4 octets each\n",
        "      # RDLENGTH -> 4 octet - for ipv4 address\n",
        "\n",
        "      ipv4_address = '.'.join(ip_list)\n",
        "\n",
        "    return domain_name, ipv4_address"
      ],
      "metadata": {
        "id": "-61q5amv8q1Q"
      },
      "execution_count": null,
      "outputs": []
    },
    {
      "cell_type": "code",
      "source": [
        "def dns_extract(dns_packet):\n",
        "  integer_value = int(dns_packet[4],16)\n",
        "  binary_string = bin(integer_value)[2:].zfill(4)\n",
        "  query_response_bit = binary_string[0]\n",
        "\n",
        "  domain_name, ipv4_address = extract_dns_info(dns_packet, query_response_bit)\n",
        "\n",
        "  print(\"Domain Name:\", domain_name)\n",
        "  print(\"IPv4 Address:\", ipv4_address)"
      ],
      "metadata": {
        "id": "VCX6KOrRqYbK"
      },
      "execution_count": null,
      "outputs": []
    },
    {
      "cell_type": "code",
      "source": [
        "# DNS packet\n",
        "dns_packet = \"629f8180000100010000000103637365046969746d02616302696e0000010001c00c0001000100001f9600040a0608020000290200000000000000\""
      ],
      "metadata": {
        "id": "gACcG1BpqidY"
      },
      "execution_count": null,
      "outputs": []
    },
    {
      "cell_type": "code",
      "source": [
        "# calling the dns_extract() function. Pass the packet string as argument\n",
        "\n",
        "dns_extract(dns_packet)"
      ],
      "metadata": {
        "colab": {
          "base_uri": "https://localhost:8080/"
        },
        "id": "piRAID-fsmoq",
        "outputId": "30445fa7-30ea-4cef-eacb-93528b2a1f3a"
      },
      "execution_count": null,
      "outputs": [
        {
          "output_type": "stream",
          "name": "stdout",
          "text": [
            "Domain Name: cse.iitm.ac.in\n",
            "IPv4 Address: 10.6.8.2\n"
          ]
        }
      ]
    },
    {
      "cell_type": "code",
      "source": [
        "for item in packet_list:\n",
        "  dns_extract(item)\n",
        "  print()"
      ],
      "metadata": {
        "colab": {
          "base_uri": "https://localhost:8080/"
        },
        "id": "rsr2zHKEbMbk",
        "outputId": "1ff7b97e-3ff9-47ad-e5e2-2c11c94c34b5"
      },
      "execution_count": null,
      "outputs": [
        {
          "output_type": "stream",
          "name": "stdout",
          "text": [
            "Domain Name: client.dropbox.com\n",
            "IPv4 Address: query packet, not applicable\n",
            "\n",
            "Domain Name: z-p42-instagram.c10r.instagram.com\n",
            "IPv4 Address: 157.240.23.174\n",
            "\n",
            "Domain Name: fonts.googleapis.com\n",
            "IPv4 Address: 142.250.182.74\n",
            "\n",
            "Domain Name: timesofindia.indiatimes.com\n",
            "IPv4 Address: query packet, not applicable\n",
            "\n",
            "Domain Name: cse.iitm.ac.in\n",
            "IPv4 Address: 10.6.8.2\n",
            "\n"
          ]
        }
      ]
    }
  ]
}